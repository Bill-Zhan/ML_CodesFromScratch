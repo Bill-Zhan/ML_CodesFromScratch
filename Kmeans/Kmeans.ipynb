{
  "nbformat": 4,
  "nbformat_minor": 0,
  "metadata": {
    "colab": {
      "name": "Kmeans.ipynb",
      "provenance": [],
      "collapsed_sections": [],
      "authorship_tag": "ABX9TyMNcUcAOcq3stCT4XND3nAO",
      "include_colab_link": true
    },
    "kernelspec": {
      "name": "python3",
      "display_name": "Python 3"
    }
  },
  "cells": [
    {
      "cell_type": "markdown",
      "metadata": {
        "id": "view-in-github",
        "colab_type": "text"
      },
      "source": [
        "<a href=\"https://colab.research.google.com/github/Bill-Zhan/ML_CodesFromScratch/blob/master/Kmeans.ipynb\" target=\"_parent\"><img src=\"https://colab.research.google.com/assets/colab-badge.svg\" alt=\"Open In Colab\"/></a>"
      ]
    },
    {
      "cell_type": "markdown",
      "metadata": {
        "id": "DB5OsKh3AAdX"
      },
      "source": [
        "Implement Kmeans and Kmeans ++"
      ]
    },
    {
      "cell_type": "markdown",
      "metadata": {
        "id": "A5iaJoQkAMGL"
      },
      "source": [
        "#1. Kmeans\n",
        "1. Find random K points as centroids.\n",
        "2. Compute the distance between data points and these centroids.\n",
        "3. For each data point, choose the closest one as its centroid.\n",
        "4. Form k clusters. Update the cluster centroids."
      ]
    },
    {
      "cell_type": "code",
      "metadata": {
        "id": "i-4UJXDeT3A2"
      },
      "source": [
        "res = np.array([0,1,1,0,1])\n",
        "arr = np.array([[1,2,3],[4,5,7],[12,5,5],[4,56,8],[3,53,6]])"
      ],
      "execution_count": 30,
      "outputs": []
    },
    {
      "cell_type": "code",
      "metadata": {
        "colab": {
          "base_uri": "https://localhost:8080/"
        },
        "id": "OErb0q_PUEcR",
        "outputId": "0722bed7-6310-4448-bcfc-44ac85dd2726"
      },
      "source": [
        "np.mean(arr[np.where(res == 1)[0],:], axis=0)"
      ],
      "execution_count": 42,
      "outputs": [
        {
          "output_type": "execute_result",
          "data": {
            "text/plain": [
              "array([ 6.33333333, 21.        ,  6.        ])"
            ]
          },
          "metadata": {
            "tags": []
          },
          "execution_count": 42
        }
      ]
    },
    {
      "cell_type": "code",
      "metadata": {
        "id": "hJ0asZw4__PO"
      },
      "source": [
        "import numpy as np\n",
        "\n",
        "class KmeansCluster:\n",
        "    '''Implement Kmeans algorithm in numpy\n",
        "\n",
        "    Attributes:\n",
        "        k: int\n",
        "            Hyperparameter K, how many clusters to generate.\n",
        "        data: np.array\n",
        "            Data in numpy array format.\n",
        "        n_iter: int\n",
        "            Number of maximum iteration. If None, will iterate until centroids don't change.\n",
        "        n: int\n",
        "            Number of data points.\n",
        "        m: int\n",
        "            Number of features.\n",
        "        centroids: list of np.array\n",
        "            Centroid of each cluster. Has k elements, each is a 1d array of size m.\n",
        "        cluster_res: np.array\n",
        "            Clustering result for each data point. From 0 to k-1.\n",
        "    '''\n",
        "    def __init__(self, k, data, n_iter=None):\n",
        "        self.k = k\n",
        "        self.data = data\n",
        "        self.n_iter = n_iter\n",
        "        self.n, self.m = self.data.shape\n",
        "        self.centroids = None\n",
        "        self.cluster_res = np.array([-1 for _ in range(self.n)])\n",
        "        self.init_centroids()\n",
        "\n",
        "    def init_centroids(self):\n",
        "        init_centroid_ids = np.random.choice(self.n, size=self.k, replace=False)\n",
        "        self.centroids = list(self.data[init_centroid_ids, :])\n",
        "\n",
        "    def find_cluster(self, dp):\n",
        "        min_dis = float('inf')\n",
        "        best_cluster = -1\n",
        "        for i, c in enumerate(self.centroids):\n",
        "            dis = np.sum(np.square(c-dp))\n",
        "            if dis < min_dis:\n",
        "                min_dis = dis\n",
        "                best_cluster = i\n",
        "        return best_cluster\n",
        "    \n",
        "    def update_centroids(self):\n",
        "        new_centroids = []\n",
        "        for i in range(self.k):\n",
        "            samples = self.data[np.where(self.cluster_res == i)[0],:]\n",
        "            new_centroids.append(np.mean(samples, axis=0))\n",
        "        return new_centroids\n",
        "    \n",
        "    def one_iter(self):\n",
        "        #--- find closest centroid for each data point\n",
        "        for i in range(self.n):\n",
        "            dp = self.data[i,:]\n",
        "            cluster_id = self.find_cluster(dp)\n",
        "            self.cluster_res[i] = cluster_id\n",
        "        \n",
        "        #--- update centroids\n",
        "        new_centroids = self.update_centroids()\n",
        "        # print(len(new_centroids))\n",
        "        return new_centroids\n",
        "    \n",
        "    def fit(self):\n",
        "        if not self.n_iter:  # train until centroids don't change\n",
        "            old_centroids = []\n",
        "            while not np.equal(np.array(self.centroids), np.array(old_centroids)):\n",
        "                old_centroids = self.centroids\n",
        "                self.centroids = self.one_iter()\n",
        "        else:\n",
        "            for _ in range(self.n_iter):\n",
        "                self.centroids = self.one_iter()\n",
        "        return (self.centroids, self.cluster_res)"
      ],
      "execution_count": 43,
      "outputs": []
    },
    {
      "cell_type": "markdown",
      "metadata": {
        "id": "gcpvuNC9OBts"
      },
      "source": [
        "Test:"
      ]
    },
    {
      "cell_type": "code",
      "metadata": {
        "id": "htwY9pkLODck"
      },
      "source": [
        "test_data = np.array([[1.658985,4.285136],\n",
        "[-3.453687,3.424321],\n",
        "[4.838138,-1.151539],\n",
        "[-5.379713,-3.362104],\n",
        "[0.972564,2.924086],\n",
        "[-3.567919,1.531611],\n",
        "[0.450614,-3.302219],\n",
        "[-3.487105,-1.724432],\n",
        "[2.668759,1.594842],\n",
        "[-3.156485,3.191137],\n",
        "[3.165506,-3.999838],\n",
        "[-2.786837,-3.099354],\n",
        "[4.208187,2.984927],\n",
        "[-2.123337,2.943366],\n",
        "[0.704199,-0.479481],\n",
        "[-0.39237,-3.963704],\n",
        "[2.831667,1.574018],\n",
        "[-0.790153,3.343144],\n",
        "[2.943496,-3.357075],\n",
        "[-3.195883,-2.283926],\n",
        "[2.336445,2.875106],\n",
        "[-1.786345,2.554248],\n",
        "[2.190101,-1.90602],\n",
        "[-3.403367,-2.778288],\n",
        "[1.778124,3.880832],\n",
        "[-1.688346,2.230267],\n",
        "[2.592976,-2.054368],\n",
        "[-4.007257,-3.207066],\n",
        "[2.257734,3.387564],\n",
        "[-2.679011,0.785119],\n",
        "[0.939512,-4.023563],\n",
        "[-3.674424,-2.261084],\n",
        "[2.046259,2.735279],\n",
        "[-3.18947,1.780269],\n",
        "[4.372646,-0.822248],\n",
        "[-2.579316,-3.497576],\n",
        "[1.889034,5.1904],\n",
        "[-0.798747,2.185588],\n",
        "[2.83652,-2.658556],\n",
        "[-3.837877,-3.253815],\n",
        "[2.096701,3.886007],\n",
        "[-2.709034,2.923887],\n",
        "[3.367037,-3.184789],\n",
        "[-2.121479,-4.232586],\n",
        "[2.329546,3.179764],\n",
        "[-3.284816,3.273099],\n",
        "[3.091414,-3.815232],\n",
        "[-3.762093,-2.432191],\n",
        "[3.542056,2.778832],\n",
        "[-1.736822,4.241041],\n",
        "[2.127073,-2.98368],\n",
        "[-4.323818,-3.938116],\n",
        "[3.792121,5.135768],\n",
        "[-4.786473,3.358547],\n",
        "[2.624081,-3.260715],\n",
        "[-4.009299,-2.978115],\n",
        "[2.493525,1.96371],\n",
        "[-2.513661,2.642162],\n",
        "[1.864375,-3.176309],\n",
        "[-3.171184,-3.572452],\n",
        "[2.89422,2.489128],\n",
        "[-2.562539,2.884438],\n",
        "[3.491078,-3.947487],\n",
        "[-2.565729,-2.012114],\n",
        "[3.332948,3.983102],\n",
        "[-1.616805,3.573188],\n",
        "[2.280615,-2.559444],\n",
        "[-2.651229,-3.103198],\n",
        "[2.321395,3.154987],\n",
        "[-1.685703,2.939697],\n",
        "[3.031012,-3.620252],\n",
        "[-4.599622,-2.185829],\n",
        "[4.196223,1.126677],\n",
        "[-2.133863,3.093686],\n",
        "[4.668892,-2.562705],\n",
        "[-2.793241,-2.149706],\n",
        "[2.884105,3.043438],\n",
        "[-2.967647,2.848696],\n",
        "[4.479332,-1.764772],\n",
        "[-4.905566,-2.911070],\n",
        "])"
      ],
      "execution_count": 12,
      "outputs": []
    },
    {
      "cell_type": "code",
      "metadata": {
        "id": "6_xrwJiwQro2"
      },
      "source": [
        "import matplotlib.pyplot as plt\n",
        "k = 4\n",
        "kmeans_cluster = KmeansCluster(k, test_data, n_iter=100)\n",
        "centroids, clusterAssment = kmeans_cluster.fit()"
      ],
      "execution_count": 44,
      "outputs": []
    },
    {
      "cell_type": "code",
      "metadata": {
        "colab": {
          "base_uri": "https://localhost:8080/"
        },
        "id": "j4JVi0ONRh0V",
        "outputId": "a018eca4-fa79-42d1-9518-037ffbc0f7e2"
      },
      "source": [
        "print(centroids[0].shape)\n",
        "print('---------------------------------')\n",
        "print(clusterAssment)"
      ],
      "execution_count": 27,
      "outputs": [
        {
          "output_type": "stream",
          "text": [
            "(20, 2)\n",
            "---------------------------------\n",
            "[1 0 3 2 1 0 3 2 1 0 3 2 1 0 3 2 1 0 3 2 1 0 3 2 1 0 3 2 1 0 3 2 1 0 3 2 1\n",
            " 0 3 2 1 0 3 2 1 0 3 2 1 0 3 2 1 0 3 2 1 0 3 2 1 0 3 2 1 0 3 2 1 0 3 2 1 0\n",
            " 3 2 1 0 3 2]\n"
          ],
          "name": "stdout"
        }
      ]
    },
    {
      "cell_type": "code",
      "metadata": {
        "id": "JgYdGLDVUypr"
      },
      "source": [
        "def showCluster(dataSet, k, centroids, clusterAssment):\n",
        "\tnumSamples, dim = dataSet.shape\n",
        "\tif dim != 2:\n",
        "\t\tprint(\"Sorry! I can not draw because the dimension of your data is not 2!\")\n",
        "\t\treturn 1\n",
        " \n",
        "\tmark = ['or', 'ob', 'og', 'ok', '^r', '+r', 'sr', 'dr', '<r', 'pr']\n",
        "\tif k > len(mark):\n",
        "\t\tprint(\"Sorry! Your k is too large! please contact Zouxy\")\n",
        "\t\treturn 1\n",
        " \n",
        "\t# draw all samples\n",
        "\tfor i in range(numSamples):\n",
        "\t\tmarkIndex = int(clusterAssment[i])\n",
        "\t\tplt.plot(dataSet[i, 0], dataSet[i, 1], mark[markIndex])\n",
        " \n",
        "\tmark = ['Dr', 'Db', 'Dg', 'Dk', '^b', '+b', 'sb', 'db', '<b', 'pb']\n",
        "\t# draw the centroids\n",
        "\tfor i in range(k):\n",
        "\t\tplt.plot(centroids[i, 0], centroids[i, 1], mark[i], markersize = 12)\n",
        " \n",
        "\tplt.show()"
      ],
      "execution_count": 51,
      "outputs": []
    },
    {
      "cell_type": "code",
      "metadata": {
        "colab": {
          "base_uri": "https://localhost:8080/",
          "height": 265
        },
        "id": "2bE-7AmsVkze",
        "outputId": "78dcd4f4-ece5-4afa-bd16-adc7cd456b4f"
      },
      "source": [
        "showCluster(np.mat(test_data), k, np.mat(centroids), clusterAssment)"
      ],
      "execution_count": 53,
      "outputs": [
        {
          "output_type": "display_data",
          "data": {
            "image/png": "[encoded data removed]",
            "text/plain": [
              "<Figure size 432x288 with 1 Axes>"
            ]
          },
          "metadata": {
            "tags": [],
            "needs_background": "light"
          }
        }
      ]
    }
  ]
}
